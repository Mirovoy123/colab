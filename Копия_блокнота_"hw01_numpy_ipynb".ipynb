{
  "cells": [
    {
      "cell_type": "markdown",
      "metadata": {
        "id": "view-in-github",
        "colab_type": "text"
      },
      "source": [
        "<a href=\"https://colab.research.google.com/github/mirovoy465/colab/blob/main/%D0%9A%D0%BE%D0%BF%D0%B8%D1%8F_%D0%B1%D0%BB%D0%BE%D0%BA%D0%BD%D0%BE%D1%82%D0%B0_%22hw01_numpy_ipynb%22.ipynb\" target=\"_parent\"><img src=\"https://colab.research.google.com/assets/colab-badge.svg\" alt=\"Open In Colab\"/></a>"
      ]
    },
    {
      "cell_type": "markdown",
      "metadata": {
        "id": "S11clkjgd-i-"
      },
      "source": [
        "## Домашнее задание 1 (5 баллов)\n",
        "\n",
        "Все задания ниже имеют равный вес (5/10)."
      ]
    },
    {
      "cell_type": "markdown",
      "metadata": {
        "id": "h-ml_dtKd-jA"
      },
      "source": [
        "### О задании\n",
        "\n",
        "В этом домашнем задании вы попрактикуетесь в работе с библиотекой numpy, которая позволяет сравнительно легко и удобно выполнять разнообразные вычисления, избегая самостоятельной реализации поэлементной обработки."
      ]
    },
    {
      "cell_type": "markdown",
      "metadata": {
        "id": "nOx7H2tNd-jB"
      },
      "source": [
        "Во всех задачах необходимо написать код решения внутри функции и убедиться, что она работает, с помощью [assert](https://python-reference.readthedocs.io/en/latest/docs/statements/assert.html) на выражение с использованием этой функции для данных из условия.\n",
        "\n",
        "При решении задач запрещается использовать циклы (`for`, `while`) и оператор `if`.\n",
        "\n",
        "Везде, где встречаются массивы или матрицы, подразумевается, что это `numpy.array`.\n",
        "\n",
        "**numpy reference:** https://numpy.org/doc/stable/reference/index.html"
      ]
    },
    {
      "cell_type": "code",
      "execution_count": 1,
      "metadata": {
        "pycharm": {
          "name": "#%%\n"
        },
        "id": "zxPgzr2bd-jB"
      },
      "outputs": [],
      "source": [
        "import numpy as np"
      ]
    },
    {
      "cell_type": "markdown",
      "metadata": {
        "id": "lqZsNMvvd-jC"
      },
      "source": [
        "### Задание 1"
      ]
    },
    {
      "cell_type": "markdown",
      "metadata": {
        "id": "VDrzle5Zd-jC"
      },
      "source": [
        "Напишите функцию, возвращающую округленную взвешенную сумму оценок по данным оценкам и весам. Можете посчитать свою оценку за курс :) В нашем случае вес экзамена равен 0.3, вес домашек - 0.4, вес контрольной - 0.2, вес самостоятельных - 0.1. Например, если за экзамен у вас 7, за домашки 10, за контрольную 8, а за самостоятельные 6, то вы получите отличную оценку 8!"
      ]
    },
    {
      "cell_type": "code",
      "execution_count": 2,
      "metadata": {
        "pycharm": {
          "name": "#%%\n"
        },
        "id": "twIyVaudd-jC",
        "outputId": "b65edb5e-a74b-41d6-96db-45c12b2137c9",
        "colab": {
          "base_uri": "https://localhost:8080/"
        }
      },
      "outputs": [
        {
          "output_type": "stream",
          "name": "stdout",
          "text": [
            "8\n"
          ]
        }
      ],
      "source": [
        "weights = np.array([0.3, 0.4, 0.2, 0.1])\n",
        "marks = np.array([7, 10, 8, 6])\n",
        "\n",
        "def result_mark(weights: np.array, marks: np.array) -> int:\n",
        "    return round(sum(weights * marks))\n",
        "print(result_mark(weights, marks))"
      ]
    },
    {
      "cell_type": "code",
      "execution_count": 3,
      "metadata": {
        "pycharm": {
          "name": "#%%\n"
        },
        "id": "myVeNYizd-jD"
      },
      "outputs": [],
      "source": [
        "weights = np.array([0.3, 0.4, 0.2, 0.1])\n",
        "marks = np.array([7, 10, 8, 6])\n",
        "\n",
        "assert result_mark(weights, marks) == 8"
      ]
    },
    {
      "cell_type": "code",
      "execution_count": 4,
      "metadata": {
        "pycharm": {
          "name": "#%%\n"
        },
        "id": "VkKewiNjd-jD"
      },
      "outputs": [],
      "source": [
        "weights = np.array([0.3, 0.4, 0.2, 0.1])\n",
        "marks = np.array([7, 0, 8, 6])\n",
        "\n",
        "assert result_mark(weights, marks) == 4"
      ]
    },
    {
      "cell_type": "markdown",
      "metadata": {
        "id": "lE_Ui90yd-jD"
      },
      "source": [
        "### Задание 2"
      ]
    },
    {
      "cell_type": "markdown",
      "metadata": {
        "id": "DqGnP5m0d-jD"
      },
      "source": [
        "Напишите функцию, меняющую каждое третье (начиная с 0) значение массива целых чисел на заданное число. Например, если на вход поступает массив `array([3, 5, 1, 0, -3, 22, 213436])` и число `-111`, то на выходе должен получиться массив `array([-111, 5, 1, -111, -3, 22, -111])`."
      ]
    },
    {
      "cell_type": "code",
      "execution_count": 5,
      "metadata": {
        "pycharm": {
          "name": "#%%\n"
        },
        "id": "HXus9ssqd-jD",
        "outputId": "7097156c-b1d3-4969-dab1-39285be11a2c",
        "colab": {
          "base_uri": "https://localhost:8080/"
        }
      },
      "outputs": [
        {
          "output_type": "stream",
          "name": "stdout",
          "text": [
            "[-111    5    1 -111   -3   22 -111]\n"
          ]
        }
      ],
      "source": [
        "array = np.array([3, 5, 1, 0, -3, 22, 213436])\n",
        "number = -111\n",
        "\n",
        "def change_array(array: np.array, number: int) -> np.array:\n",
        "    a = array[::3]\n",
        "    a[:] = number\n",
        "    return array\n",
        "\n",
        "print(change_array(array,number))"
      ]
    },
    {
      "cell_type": "code",
      "execution_count": 6,
      "metadata": {
        "pycharm": {
          "name": "#%%\n"
        },
        "id": "daFn8exzd-jE"
      },
      "outputs": [],
      "source": [
        "array = np.array([3, 5, 1, 0, -3, 22, 213436])\n",
        "number = -111\n",
        "\n",
        "assert np.allclose(change_array(array, number), np.array([-111, 5, 1, -111, -3, 22, -111]))"
      ]
    },
    {
      "cell_type": "code",
      "execution_count": 7,
      "metadata": {
        "pycharm": {
          "name": "#%%\n"
        },
        "id": "awj7QZgbd-jE"
      },
      "outputs": [],
      "source": [
        "array = np.array([3, 14, 15, 92, 6])\n",
        "number = 8\n",
        "\n",
        "assert np.allclose(change_array(array, number), np.array([8, 14, 15, 8, 6]))"
      ]
    },
    {
      "cell_type": "markdown",
      "metadata": {
        "id": "XHURaL2Hd-jE"
      },
      "source": [
        "### Задание 3"
      ]
    },
    {
      "cell_type": "markdown",
      "metadata": {
        "id": "ZlqCCRiud-jE"
      },
      "source": [
        "Напишите функцию, выдающую индексы «близких» элементов заданных массивов, а именно тех пар элементов, чей модуль разницы не превосходит заданного значения. Например, если на вход поступают массив `array([1.5, 0.5, 2, -4.1, -3, 6, -1])`, массив `array([1.2, 0.5, 1, -4, 3, 0, -1.2])` и число `0.5`, то на выходе должен получиться массив `array([0, 1, 3, 6])` (**важно: не `tuple`, а одномерный массив типа `numpy.ndarray` (то есть `.ndim` от него равно 1)!**)."
      ]
    },
    {
      "cell_type": "code",
      "execution_count": 8,
      "metadata": {
        "pycharm": {
          "name": "#%%\n"
        },
        "id": "pyYs2tNsd-jE"
      },
      "outputs": [],
      "source": [
        "def find_close(array1: np.array, array2: np.array,\n",
        "               precision: float) -> np.array:\n",
        "    array3 = array1 - array2\n",
        "    return np.where(abs(array3)<precision)[0]"
      ]
    },
    {
      "cell_type": "code",
      "execution_count": 9,
      "metadata": {
        "pycharm": {
          "name": "#%%\n"
        },
        "id": "I3_cEV2wd-jE",
        "outputId": "15e0ae37-ae9d-4456-9ccc-d3ace9b6cf5b",
        "colab": {
          "base_uri": "https://localhost:8080/"
        }
      },
      "outputs": [
        {
          "output_type": "stream",
          "name": "stdout",
          "text": [
            "[0 1 3 6]\n"
          ]
        }
      ],
      "source": [
        "array1 = np.array([1.5, 0.5, 2, -4.1, -3, 6, -1])\n",
        "array2 = np.array([1.2, 0.5, 1, -4.0,  3, 0, -1.2])\n",
        "precision = 0.5\n",
        "res = find_close(array1, array2, precision)\n",
        "print(res)\n",
        "assert res.ndim == 1\n",
        "assert np.allclose(res, np.array([0, 1, 3, 6]))"
      ]
    },
    {
      "cell_type": "code",
      "execution_count": 10,
      "metadata": {
        "pycharm": {
          "name": "#%%\n"
        },
        "id": "FUowmkZcd-jE"
      },
      "outputs": [],
      "source": [
        "array1 = np.array([3.1415, 2.7182, 1.6180, 6.6261])\n",
        "array2 = np.array([6.6730, 1.3807, -1,     6.0222])\n",
        "precision = 1.7\n",
        "res = find_close(array1, array2, precision)\n",
        "\n",
        "assert res.ndim == 1\n",
        "assert np.allclose(res, np.array([1, 3]))"
      ]
    },
    {
      "cell_type": "markdown",
      "metadata": {
        "id": "VeR8dmoOd-jF"
      },
      "source": [
        "### Задание 4"
      ]
    },
    {
      "cell_type": "markdown",
      "metadata": {
        "id": "KAIgfLDBd-jF"
      },
      "source": [
        "Напишите функцию, которая составляет блочную матрицу из четырех блоков, где каждый блок - это заданная матрица. Например, если на вход поступает матрица\n",
        "$$\n",
        "\\begin{pmatrix}\n",
        "0 & 1 & 2\\\\\n",
        "3 & 4 & 5\\\\\n",
        "\\end{pmatrix},\n",
        "$$\n",
        "то ответом будет матрица\n",
        "$$\n",
        "\\begin{pmatrix}\n",
        "0 & 1 & 2 & 0 & 1 & 2\\\\\n",
        "3 & 4 & 5 & 3 & 4 & 5\\\\\n",
        "0 & 1 & 2 & 0 & 1 & 2\\\\\n",
        "3 & 4 & 5 & 3 & 4 & 5\\\\\n",
        "\\end{pmatrix}\n",
        "$$"
      ]
    },
    {
      "cell_type": "code",
      "execution_count": 11,
      "metadata": {
        "pycharm": {
          "name": "#%%\n"
        },
        "id": "usBVngjOd-jF"
      },
      "outputs": [],
      "source": [
        "def block_matrix(block: np.array) -> np.array:\n",
        "    return np.hstack((np.vstack((block,block)),np.vstack((block,block))))"
      ]
    },
    {
      "cell_type": "code",
      "execution_count": 12,
      "metadata": {
        "pycharm": {
          "name": "#%%\n"
        },
        "id": "8nrJrmLKd-jF",
        "outputId": "7e962a3e-ea83-4e78-db04-29be8d611526",
        "colab": {
          "base_uri": "https://localhost:8080/"
        }
      },
      "outputs": [
        {
          "output_type": "stream",
          "name": "stdout",
          "text": [
            "[[1 3 3 1 3 3]\n",
            " [7 0 0 7 0 0]\n",
            " [1 3 3 1 3 3]\n",
            " [7 0 0 7 0 0]]\n"
          ]
        }
      ],
      "source": [
        "block = np.array([[1, 3, 3], [7, 0, 0]])\n",
        "print(block_matrix(block))\n",
        "assert np.allclose(\n",
        "    block_matrix(block),\n",
        "    np.array([[1, 3, 3, 1, 3, 3],\n",
        "              [7, 0, 0, 7, 0, 0],\n",
        "              [1, 3, 3, 1, 3, 3],\n",
        "              [7, 0, 0, 7, 0, 0]])\n",
        ")"
      ]
    },
    {
      "cell_type": "markdown",
      "metadata": {
        "id": "MSdgseF2d-jF"
      },
      "source": [
        "### Задание 5"
      ]
    },
    {
      "cell_type": "markdown",
      "metadata": {
        "id": "EISBJKeEd-jF"
      },
      "source": [
        "Напишите функцию, вычисляющую произведение всех ненулевых диагональных элементов на диагонали данной квадратной матрицы. Например, если на вход поступает матрица\n",
        "$$\n",
        "\\begin{pmatrix}\n",
        "0 & 1 & 2\\\\\n",
        "3 & 4 & 5\\\\\n",
        "6 & 7 & 8\\\\\n",
        "\\end{pmatrix},\n",
        "$$\n",
        "то ответом будет 32.\n",
        "\n",
        "Элементы матрицы считать целочисленными."
      ]
    },
    {
      "cell_type": "code",
      "execution_count": 13,
      "metadata": {
        "pycharm": {
          "name": "#%%\n"
        },
        "id": "yXVbw6Ijd-jG"
      },
      "outputs": [],
      "source": [
        "def diag_prod(matrix: np.array) -> int:\n",
        "    ed = np.identity(matrix.shape[0]) * matrix\n",
        "    return ed[ed != 0].prod(0)"
      ]
    },
    {
      "cell_type": "code",
      "execution_count": 14,
      "metadata": {
        "pycharm": {
          "name": "#%%\n"
        },
        "id": "BELiOPBfd-jG",
        "outputId": "32384359-795c-47cf-cd62-15fd17559029",
        "colab": {
          "base_uri": "https://localhost:8080/"
        }
      },
      "outputs": [
        {
          "output_type": "stream",
          "name": "stdout",
          "text": [
            "750.0\n"
          ]
        }
      ],
      "source": [
        "matrix = np.array([[0, 1, 2, 3],\n",
        "                   [4, 5, 6, 7],\n",
        "                   [8, 9, 10, 11],\n",
        "                   [12, 13, 14, 15]])\n",
        "print(diag_prod(matrix))\n",
        "assert diag_prod(matrix) == 750"
      ]
    },
    {
      "cell_type": "markdown",
      "metadata": {
        "id": "qfalGiCnd-jG"
      },
      "source": [
        "### Задание 6"
      ]
    },
    {
      "cell_type": "markdown",
      "metadata": {
        "id": "nEvx9ukwd-jG"
      },
      "source": [
        "Для улучшения качества работы некоторых алгоритмов машинного обучения может быть полезно использовать [нормализацию данных](https://vk.cc/8xmfQk), чтобы привести признаки в выборке к одному масштабу — а именно, из каждого столбца вычесть среднее его значений и поделить на их стандартное отклонение. Напишите функцию, нормализующую входящую матрицу (по столбцам). Например, если на вход подается матрица\n",
        "$$\n",
        "\\begin{pmatrix}\n",
        "1 & 4 & 4200\\\\\n",
        "0 & 10 & 5000\\\\\n",
        "1 & 2 & 1000\\\\\n",
        "\\end{pmatrix},\n",
        "$$\n",
        "то результатом с точностью до сотых будет матрица\n",
        "$$\n",
        "\\begin{pmatrix}\n",
        "0.71 & -0.39 & 0.46\\\\\n",
        "-1.41 & 1.37 & 0.93\\\\\n",
        "0.71 & -0.98 & -1.39\\\\\n",
        "\\end{pmatrix}\n",
        "$$\n",
        "\n",
        "Учтите, что в вашем матрице не должно получаться никаких nan. Подумайте, в каком случае они могут возникнуть и как обойти эту проблему.\n",
        "\n",
        "_Подсказка. Казалось бы, при чем тут деление на ноль._"
      ]
    },
    {
      "cell_type": "code",
      "execution_count": 15,
      "metadata": {
        "pycharm": {
          "name": "#%%\n"
        },
        "id": "wNdgpL18d-jG"
      },
      "outputs": [],
      "source": [
        "def normalize(matrix: np.array) -> np.array:\n",
        "    m = (matrix - matrix.mean(axis=0))\n",
        "    return m/matrix.std(axis=0)"
      ]
    },
    {
      "cell_type": "code",
      "execution_count": 16,
      "metadata": {
        "pycharm": {
          "name": "#%%\n"
        },
        "id": "upaPCt7Od-jH"
      },
      "outputs": [],
      "source": [
        "matrix = np.array([[1, 4, 4200],\n",
        "                   [0, 10, 5000],\n",
        "                   [1, 2, 1000]])\n",
        "\n",
        "assert np.allclose(\n",
        "    normalize(matrix),\n",
        "    np.array([[ 0.7071, -0.39223,  0.46291],\n",
        "              [-1.4142,  1.37281,  0.92582],\n",
        "              [ 0.7071, -0.98058, -1.38873]])\n",
        ")"
      ]
    },
    {
      "cell_type": "code",
      "execution_count": 17,
      "metadata": {
        "pycharm": {
          "name": "#%%\n"
        },
        "id": "GyXZVozNd-jH"
      },
      "outputs": [],
      "source": [
        "matrix = np.array([[-7, 2, 42], [2, 10, 50], [5, 4, 10]])\n",
        "\n",
        "assert np.allclose(\n",
        "    normalize(matrix),\n",
        "    np.array([[-1.37281, -0.98058,  0.46291],\n",
        "              [ 0.39223,  1.37281,  0.92582],\n",
        "              [ 0.98058, -0.39223, -1.38873]])\n",
        ")"
      ]
    },
    {
      "cell_type": "markdown",
      "metadata": {
        "id": "68MzcGFLd-jH"
      },
      "source": [
        "### Задание 7"
      ]
    },
    {
      "cell_type": "markdown",
      "metadata": {
        "id": "gHvb-twxd-jH"
      },
      "source": [
        "Написать функцию, возвращающую максимальный элемент в векторе x среди элементов, перед которыми стоит нулевой. <br>\n",
        "Для x = np.array([6, 2, 0, 3, 0, 0, 5, 7, 0]) ответом является 5."
      ]
    },
    {
      "cell_type": "code",
      "execution_count": 18,
      "metadata": {
        "pycharm": {
          "name": "#%%\n"
        },
        "id": "I9-py12xd-jH"
      },
      "outputs": [],
      "source": [
        "def prevZeroMax(matrix: np.array) -> int:\n",
        "    zero = matrix == 0\n",
        "    return matrix[1:][zero[:-1]].max()"
      ]
    },
    {
      "cell_type": "code",
      "execution_count": 19,
      "metadata": {
        "pycharm": {
          "name": "#%%\n"
        },
        "id": "85bdZ4Hzd-jH",
        "outputId": "1bfdd9c2-1956-4d2a-e95e-97e868569adc",
        "colab": {
          "base_uri": "https://localhost:8080/"
        }
      },
      "outputs": [
        {
          "output_type": "stream",
          "name": "stdout",
          "text": [
            "5\n"
          ]
        }
      ],
      "source": [
        "coefs = np.array([6, 2, 0, 3, 0, 0, 5, 7, 0])\n",
        "print(prevZeroMax(coefs))\n",
        "assert  prevZeroMax(coefs) == 5"
      ]
    },
    {
      "cell_type": "code",
      "execution_count": 20,
      "metadata": {
        "pycharm": {
          "name": "#%%\n"
        },
        "id": "KJCBvITMd-jH"
      },
      "outputs": [],
      "source": [
        "coefs = np.array([1, 0, 1, 0, 4, 2, 0])\n",
        "\n",
        "assert prevZeroMax(coefs) == 4\n"
      ]
    },
    {
      "cell_type": "markdown",
      "metadata": {
        "id": "08lT5ZAqd-jI"
      },
      "source": [
        "### Задание 8"
      ]
    },
    {
      "cell_type": "markdown",
      "metadata": {
        "id": "rYEBlOPnd-jI"
      },
      "source": [
        "Напишите функцию, делающую данную [треугольную матрицу](https://ru.wikipedia.org/wiki/%D0%A2%D1%80%D0%B5%D1%83%D0%B3%D0%BE%D0%BB%D1%8C%D0%BD%D0%B0%D1%8F_%D0%BC%D0%B0%D1%82%D1%80%D0%B8%D1%86%D0%B0) симметричной. Например, если на вход поступает матрица\n",
        "$$\n",
        "\\begin{pmatrix}\n",
        "1 & 2 & 3 & 4\\\\\n",
        "0 & 5 & 6 & 7\\\\\n",
        "0 & 0 & 8 & 9\\\\\n",
        "0 & 0 & 0 & 10\\\\\n",
        "\\end{pmatrix},\n",
        "$$\n",
        "то на выходе должна быть матрица\n",
        "$$\n",
        "\\begin{pmatrix}\n",
        "1 & 2 & 3 & 4\\\\\n",
        "2 & 5 & 6 & 7\\\\\n",
        "3 & 6 & 8 & 9\\\\\n",
        "4 & 7 & 9 & 10\\\\\n",
        "\\end{pmatrix}.\n",
        "$$"
      ]
    },
    {
      "cell_type": "code",
      "execution_count": 21,
      "metadata": {
        "pycharm": {
          "name": "#%%\n"
        },
        "id": "EM7hiXk9d-jS"
      },
      "outputs": [],
      "source": [
        "def make_symmetric(matrix: np.array) -> np.array:\n",
        "    m = matrix.T + matrix - np.diag(np.diag(matrix))\n",
        "    return(m)"
      ]
    },
    {
      "cell_type": "code",
      "execution_count": 22,
      "metadata": {
        "pycharm": {
          "name": "#%%\n"
        },
        "id": "-kQfdodxd-jT",
        "outputId": "5e477db6-0c31-4fb1-ff46-c69601714129",
        "colab": {
          "base_uri": "https://localhost:8080/"
        }
      },
      "outputs": [
        {
          "output_type": "stream",
          "name": "stdout",
          "text": [
            "[[ 1  2  3  4]\n",
            " [ 0  5  6  7]\n",
            " [ 0  0  8  9]\n",
            " [ 0  0  0 10]]\n"
          ]
        }
      ],
      "source": [
        "matrix = np.array([[1, 2, 3, 4],\n",
        "                   [0, 5, 6, 7],\n",
        "                   [0, 0, 8, 9],\n",
        "                   [0, 0, 0, 10]])\n",
        "print(matrix)\n",
        "assert np.allclose(\n",
        "    make_symmetric(matrix),\n",
        "    np.array([[ 1,  2,  3,  4],\n",
        "              [ 2,  5,  6,  7],\n",
        "              [ 3,  6,  8,  9],\n",
        "              [ 4,  7,  9, 10]])\n",
        ")"
      ]
    },
    {
      "cell_type": "code",
      "execution_count": 23,
      "metadata": {
        "pycharm": {
          "name": "#%%\n"
        },
        "id": "0gNb--vYd-jT"
      },
      "outputs": [],
      "source": [
        "matrix = np.array([[10, 21, 32, 49], [0, 53, 62, 78], [0, 0, 82, 92], [0, 0, 0, 10]])\n",
        "\n",
        "assert np.allclose(\n",
        "    make_symmetric(matrix),\n",
        "    np.array([[10, 21, 32, 49],\n",
        "              [21, 53, 62, 78],\n",
        "              [32, 62, 82, 92],\n",
        "              [49, 78, 92, 10]])\n",
        ")"
      ]
    },
    {
      "cell_type": "markdown",
      "metadata": {
        "id": "lDmZKZhMd-jT"
      },
      "source": [
        "### Задание 9"
      ]
    },
    {
      "cell_type": "markdown",
      "metadata": {
        "id": "BV6BjCBLd-jT"
      },
      "source": [
        "Напишите функцию, создающую прямоугольную матрицу из m одинаковых строк, заполненных последовательными натуральными числами от a до b включительно в возрастающем порядке. Например, если m = 5, a = 3, b = 10, то на выходе будет матрица\n",
        "$$\n",
        "\\begin{pmatrix}\n",
        "3 & 4 & 5 & 6 & 7 & 8 & 9 & 10\\\\\n",
        "3 & 4 & 5 & 6 & 7 & 8 & 9 & 10\\\\\n",
        "3 & 4 & 5 & 6 & 7 & 8 & 9 & 10\\\\\n",
        "3 & 4 & 5 & 6 & 7 & 8 & 9 & 10\\\\\n",
        "3 & 4 & 5 & 6 & 7 & 8 & 9 & 10\\\\\n",
        "\\end{pmatrix}\n",
        "$$"
      ]
    },
    {
      "cell_type": "code",
      "execution_count": 24,
      "metadata": {
        "pycharm": {
          "name": "#%%\n"
        },
        "id": "aL-WGDrLd-jT"
      },
      "outputs": [],
      "source": [
        "def construct_matrix(m: int, a: int, b: int) -> np.array:\n",
        "    ma = np.arange(start=a,stop=b+1)\n",
        "    return(np.tile(ma,m).reshape(m,-1))"
      ]
    },
    {
      "cell_type": "code",
      "execution_count": 25,
      "metadata": {
        "pycharm": {
          "name": "#%%\n"
        },
        "id": "VyftfrLUd-jU"
      },
      "outputs": [],
      "source": [
        "m = 5\n",
        "a = 3\n",
        "b = 10\n",
        "\n",
        "assert np.allclose(\n",
        "    construct_matrix(m, a, b),\n",
        "    np.array([[ 3,  4,  5,  6,  7,  8,  9, 10],\n",
        "              [ 3,  4,  5,  6,  7,  8,  9, 10],\n",
        "              [ 3,  4,  5,  6,  7,  8,  9, 10],\n",
        "              [ 3,  4,  5,  6,  7,  8,  9, 10],\n",
        "              [ 3,  4,  5,  6,  7,  8,  9, 10]])\n",
        ")"
      ]
    },
    {
      "cell_type": "code",
      "execution_count": 26,
      "metadata": {
        "pycharm": {
          "name": "#%%\n"
        },
        "id": "QTidmuQgd-jU"
      },
      "outputs": [],
      "source": [
        "m = 3\n",
        "a = 2\n",
        "b = 6\n",
        "\n",
        "assert np.allclose(\n",
        "    construct_matrix(m, a, b),\n",
        "    np.array([[2, 3, 4, 5, 6],\n",
        "              [2, 3, 4, 5, 6],\n",
        "              [2, 3, 4, 5, 6]])\n",
        ")"
      ]
    },
    {
      "cell_type": "markdown",
      "metadata": {
        "id": "Blx-aay-d-jU"
      },
      "source": [
        "### Задание 10"
      ]
    },
    {
      "cell_type": "markdown",
      "metadata": {
        "id": "9rEGkI5Bd-jU"
      },
      "source": [
        "Напишите функцию, вычисляющую [косинусную близость](https://en.wikipedia.org/wiki/Cosine_similarity) двух векторов. Например, если на вход поступают вектора `array([-2, 1, 0, -5, 4, 3, -3])` и `array([0, 2, -2, 10, 6, 0, 0])`, ответом будет -0.25."
      ]
    },
    {
      "cell_type": "code",
      "execution_count": 45,
      "metadata": {
        "pycharm": {
          "name": "#%%\n"
        },
        "id": "X7QzTVD6d-jU"
      },
      "outputs": [],
      "source": [
        "def cosine_similarity(vec1: np.array, vec2: np.array) -> float:\n",
        "    return np.dot(vec1,vec2) / (np.dot(vec1,vec1)**0.5 * np.dot(vec2,vec2)**0.5)"
      ]
    },
    {
      "cell_type": "code",
      "execution_count": 46,
      "metadata": {
        "pycharm": {
          "name": "#%%\n"
        },
        "id": "Lx12PqAAd-jV"
      },
      "outputs": [],
      "source": [
        "vec1 = np.array([-2, 1,  0, -5, 4, 3, -3])\n",
        "vec2 = np.array([ 0, 2, -2, 10, 6, 0,  0])\n",
        "\n",
        "assert np.allclose(cosine_similarity(vec1, vec2), -0.25)"
      ]
    },
    {
      "cell_type": "code",
      "execution_count": 47,
      "metadata": {
        "pycharm": {
          "name": "#%%\n"
        },
        "id": "sYmmz8S2d-jV"
      },
      "outputs": [],
      "source": [
        "vec1 = np.array([-4, 2,  9, -8, 9, 0, -2])\n",
        "vec2 = np.array([ 3, 2, -4, -1, 3, 2,  2])\n",
        "\n",
        "assert np.allclose(cosine_similarity(vec1, vec2), -0.119929)"
      ]
    }
  ],
  "metadata": {
    "kernelspec": {
      "display_name": "Python 3 (ipykernel)",
      "language": "python",
      "name": "python3"
    },
    "language_info": {
      "codemirror_mode": {
        "name": "ipython",
        "version": 3
      },
      "file_extension": ".py",
      "mimetype": "text/x-python",
      "name": "python",
      "nbconvert_exporter": "python",
      "pygments_lexer": "ipython3",
      "version": "3.7.9"
    },
    "colab": {
      "provenance": [],
      "include_colab_link": true
    }
  },
  "nbformat": 4,
  "nbformat_minor": 0
}