{
  "nbformat": 4,
  "nbformat_minor": 0,
  "metadata": {
    "colab": {
      "provenance": [],
      "authorship_tag": "ABX9TyOasanGNnq18Gwx62VmR5+R",
      "include_colab_link": true
    },
    "kernelspec": {
      "name": "python3",
      "display_name": "Python 3"
    },
    "language_info": {
      "name": "python"
    }
  },
  "cells": [
    {
      "cell_type": "markdown",
      "metadata": {
        "id": "view-in-github",
        "colab_type": "text"
      },
      "source": [
        "<a href=\"https://colab.research.google.com/github/mirovoy465/colab/blob/main/ods.ai%20linear%20course%20homework.ipynb\" target=\"_parent\"><img src=\"https://colab.research.google.com/assets/colab-badge.svg\" alt=\"Open In Colab\"/></a>"
      ]
    },
    {
      "cell_type": "markdown",
      "source": [
        "# **Open ML Course: Линейные модели 2023**\n",
        "\n",
        "# Домашнее задание 1"
      ],
      "metadata": {
        "id": "FTcRKTxP1yCF"
      }
    },
    {
      "cell_type": "markdown",
      "source": [
        "# Вопрос 1.\n",
        "Создайте данные используя make_regression(n_samples=100, n_features=20, noise=10, random_state=42)\n",
        "Что можно сказать о полученных данных?"
      ],
      "metadata": {
        "id": "MhsyObrB2MGF"
      }
    },
    {
      "cell_type": "code",
      "source": [
        "from sklearn.datasets import make_regression\n",
        "\n",
        "X, y, coefs =  make_regression(n_samples=100, n_features=20, noise=10, coef = True)"
      ],
      "metadata": {
        "id": "LGPynM_c2Ld9"
      },
      "execution_count": null,
      "outputs": []
    },
    {
      "cell_type": "markdown",
      "source": [
        "Среднее признаков по модулю меньше единицы и стандартное отклонение около единицы (отличается не более, чем на 20%)"
      ],
      "metadata": {
        "id": "pcHmwdD526QB"
      }
    },
    {
      "cell_type": "code",
      "source": [
        "X.mean(), X.std()"
      ],
      "metadata": {
        "colab": {
          "base_uri": "https://localhost:8080/"
        },
        "id": "VrhsSVUF2fDP",
        "outputId": "7403921e-4d53-47bc-e722-fc900a5688f2"
      },
      "execution_count": null,
      "outputs": [
        {
          "output_type": "execute_result",
          "data": {
            "text/plain": [
              "(0.006889835395167086, 0.995766715196734)"
            ]
          },
          "metadata": {},
          "execution_count": 2
        }
      ]
    },
    {
      "cell_type": "markdown",
      "source": [
        "Есть корреляции больше .5 между разными признаками"
      ],
      "metadata": {
        "id": "7LpFXVV329MX"
      }
    },
    {
      "cell_type": "code",
      "source": [
        "import numpy as np\n",
        "\n",
        "correlation_matrix = np.corrcoef(X, rowvar=False)\n",
        "correlation_matrix -= (np.isclose(correlation_matrix, 1)).astype(int)\n",
        "(correlation_matrix > .5).any()"
      ],
      "metadata": {
        "colab": {
          "base_uri": "https://localhost:8080/"
        },
        "id": "7f20aRhj2otF",
        "outputId": "35b367df-254c-43cd-b245-43a7a76e1198"
      },
      "execution_count": null,
      "outputs": [
        {
          "output_type": "execute_result",
          "data": {
            "text/plain": [
              "False"
            ]
          },
          "metadata": {},
          "execution_count": 3
        }
      ]
    },
    {
      "cell_type": "markdown",
      "source": [
        "Для вычисления значений признаков требуется регуляризованная регрессия"
      ],
      "metadata": {
        "id": "0nWeAHvr4GxB"
      }
    },
    {
      "cell_type": "code",
      "source": [
        "# ?????? зачем вычислять признаки"
      ],
      "metadata": {
        "id": "gF_PzXRY3j9g"
      },
      "execution_count": null,
      "outputs": []
    },
    {
      "cell_type": "markdown",
      "source": [
        "Для лучшего предсказания признаки нужно отнормировать\n"
      ],
      "metadata": {
        "id": "ousWbafE4UsF"
      }
    },
    {
      "cell_type": "code",
      "source": [
        "from sklearn.linear_model import LinearRegression\n",
        "from sklearn.model_selection import train_test_split\n",
        "from sklearn.metrics import r2_score\n",
        "from sklearn.preprocessing import StandardScaler\n",
        "scores = np.array([])\n",
        "\n",
        "for iter in range(1000):\n",
        "  X_train, X_test, y_train, y_test = train_test_split(X, y, test_size = .3)\n",
        "\n",
        "  scaler = StandardScaler()\n",
        "  X_train_sc = scaler.fit_transform(X_train)\n",
        "  X_test_sc = scaler.fit_transform(X_test)\n",
        "\n",
        "  linreg = LinearRegression()\n",
        "  fit = linreg.fit(X_train, y_train)\n",
        "  fit_sc = linreg.fit(X_train_sc, y_train)\n",
        "\n",
        "  iter_scores = r2_score(fit.predict(X_test), y_test),\\\n",
        "                r2_score(fit.predict(X_test_sc), y_test)\n",
        "\n",
        "  scores = np.append(scores, iter_scores, axis = 0)\n",
        "\n",
        "scores.reshape(-1, 2).mean(axis=0)"
      ],
      "metadata": {
        "colab": {
          "base_uri": "https://localhost:8080/"
        },
        "id": "6VqH2vuE6ESr",
        "outputId": "8b26e867-afd4-424b-b85a-68c3fe10a84b"
      },
      "execution_count": null,
      "outputs": [
        {
          "output_type": "execute_result",
          "data": {
            "text/plain": [
              "array([0.97623336, 0.9246088 ])"
            ]
          },
          "metadata": {},
          "execution_count": 5
        }
      ]
    },
    {
      "cell_type": "markdown",
      "source": [
        "без нормализации действительно получается лучше"
      ],
      "metadata": {
        "id": "DAmBsas67xM6"
      }
    },
    {
      "cell_type": "markdown",
      "source": [
        "# Вопрос 2.\n",
        "\n",
        "Используя sklearn.linear_model постройте LinearRegression, Ridge(random_state=1), Lasso на дефолтных параметрах и ненормированных признаках. Для оценки регрессии используем R2 из функции score модели.\n",
        "\n",
        "Ответьте на вопросы 1-3.\n",
        "\n",
        "Теперь отнормируйте признаки. Постройте опять 3 регрессии.\n",
        "\n",
        "Ответьте на вопросы 4-6.\n",
        "\n",
        "Вопрос 7 относится ко всем построенным в вопросе регрессиям."
      ],
      "metadata": {
        "id": "388AjwMD70bm"
      }
    },
    {
      "cell_type": "code",
      "source": [
        "from sklearn.linear_model import LinearRegression\n",
        "from sklearn.linear_model import Ridge\n",
        "from sklearn.linear_model import Lasso\n",
        "\n",
        "lr = LinearRegression()\n",
        "ridge = Ridge(random_state = 1)\n",
        "lasso = Lasso()\n",
        "\n",
        "fit_lr = lr.fit(X, y)\n",
        "fit_ridge = ridge.fit(X, y)\n",
        "fit_lasso = lasso.fit(X, y)\n",
        "\n",
        "print(\"Non-normalized: \", round(fit_lr.score(X, y), 4),\n",
        "                          round(fit_ridge.score(X, y), 4),\n",
        "                          round(fit_lasso.score(X, y), 4))\n",
        "\n",
        "scaler = StandardScaler()\n",
        "X_sc = scaler.fit_transform(X)\n",
        "\n",
        "fit_lr_sc = lr.fit(X_sc, y)\n",
        "fit_ridge_sc = ridge.fit(X_sc, y)\n",
        "fit_lasso_sc = lasso.fit(X_sc, y)\n",
        "\n",
        "print(\"Normalized: \", round(fit_lr_sc.score(X_sc, y), 4),\n",
        "                      round(fit_ridge_sc.score(X_sc, y), 4),\n",
        "                      round(fit_lasso_sc.score(X_sc, y), 4))"
      ],
      "metadata": {
        "colab": {
          "base_uri": "https://localhost:8080/"
        },
        "id": "-l6QGTn_9kcQ",
        "outputId": "46dc07ae-1b46-42b1-d6e1-6ba5f428c4fc"
      },
      "execution_count": null,
      "outputs": [
        {
          "output_type": "stream",
          "name": "stdout",
          "text": [
            "Non-normalized:  0.9979 0.9978 0.9975\n",
            "Normalized:  0.9979 0.9978 0.9975\n"
          ]
        }
      ]
    },
    {
      "cell_type": "markdown",
      "source": [
        "1. По score (R2) Ridge лучше всего\n",
        "2. По score (R2) LinearRegression лучше всего\n",
        "3. По score (R2) Lasso лучше всего\n",
        "4. По score (R2) Ridge лучше всего\n",
        "5. По score (R2) LinearRegression лучше всего\n",
        "6. По score (R2) Lasso лучше всего\n",
        "7. Из всех построенных регрессий в вопросе, Ridge лучше всего\n",
        "\n",
        "Правильные ответы - 2 и 5"
      ],
      "metadata": {
        "id": "1SC4Y8wiAIQu"
      }
    },
    {
      "cell_type": "markdown",
      "source": [
        "# Вопрос 3.\n",
        "Из вопроса 2 используйте LinearRegression, Ridge, Lasso, построенные на признаках без нормирования. Для ответов на вопросы сравните полученные коэффициенты.\n",
        "\n",
        "Для LinearRegression посчитайте значимость признаков, используя statsmodels. Достаньте истинные значения признаков из make_regression.\n",
        "\n",
        "Для вопросов 5 и 6 формула расчета:\n",
        "d = abs(round(reg.coef_[i],3) - round(coefs[i],3))/round(coefs[i],3)\n",
        "if d == np.inf: d=1\n",
        "if d == np.nan: d=0\n",
        "coefs - истинные коэффициенты."
      ],
      "metadata": {
        "id": "qri8YqBgAb7t"
      }
    },
    {
      "cell_type": "markdown",
      "source": [
        "1. Значение коэффициента у константы лучше всего оценила LinearRegression (без проверки значимости)"
      ],
      "metadata": {
        "id": "FTXPLzTSDEm5"
      }
    },
    {
      "cell_type": "code",
      "source": [
        "from sklearn.metrics import mean_squared_error\n",
        "\n",
        "mean_squared_error(fit_lr.coef_, coefs),\\\n",
        "mean_squared_error(fit_ridge.coef_, coefs),\\\n",
        "mean_squared_error(fit_lasso.coef_, coefs)"
      ],
      "metadata": {
        "colab": {
          "base_uri": "https://localhost:8080/"
        },
        "id": "4ODbHL2o_Vae",
        "outputId": "80138af1-f457-43ce-e00e-e2a81a4716b9"
      },
      "execution_count": null,
      "outputs": [
        {
          "output_type": "execute_result",
          "data": {
            "text/plain": [
              "(10.91961025861889, 11.940369659275188, 12.463900619701826)"
            ]
          },
          "metadata": {},
          "execution_count": 7
        }
      ]
    },
    {
      "cell_type": "markdown",
      "source": [
        "2. Lasso правильно занулила все нулевые признаки"
      ],
      "metadata": {
        "id": "_4kJgNe0DwBM"
      }
    },
    {
      "cell_type": "code",
      "source": [
        "fit_lasso.coef_.round(), coefs.round()"
      ],
      "metadata": {
        "colab": {
          "base_uri": "https://localhost:8080/"
        },
        "id": "jFufao6DA3x3",
        "outputId": "046b4d70-84c5-44ed-fa4e-c501fbaff101"
      },
      "execution_count": null,
      "outputs": [
        {
          "output_type": "execute_result",
          "data": {
            "text/plain": [
              "(array([82.,  0.,  0., 42., 26., -1., -0., -0., 73.,  3.,  0., 65., 16.,\n",
              "         0.,  0., 61.,  0., 88., 29., 83.]),\n",
              " array([74.,  0.,  0., 46., 28.,  0.,  0.,  0., 77.,  0.,  0., 72., 21.,\n",
              "         0.,  0., 63.,  0., 90., 32., 89.]))"
            ]
          },
          "metadata": {},
          "execution_count": 8
        }
      ]
    },
    {
      "cell_type": "code",
      "source": [
        "import statsmodels.api as sm\n",
        "model = sm.OLS(y, X).fit()\n",
        "print(model.summary()), coefs.round(4).reshape(-1,1)\n"
      ],
      "metadata": {
        "colab": {
          "base_uri": "https://localhost:8080/"
        },
        "id": "L7Mh77k8DzmQ",
        "outputId": "62bd06d7-cd22-468b-d874-f1632060e893"
      },
      "execution_count": null,
      "outputs": [
        {
          "output_type": "stream",
          "name": "stdout",
          "text": [
            "                                 OLS Regression Results                                \n",
            "=======================================================================================\n",
            "Dep. Variable:                      y   R-squared (uncentered):                   0.998\n",
            "Model:                            OLS   Adj. R-squared (uncentered):              0.997\n",
            "Method:                 Least Squares   F-statistic:                              1906.\n",
            "Date:                Wed, 04 Oct 2023   Prob (F-statistic):                    1.40e-98\n",
            "Time:                        06:27:58   Log-Likelihood:                         -362.22\n",
            "No. Observations:                 100   AIC:                                      764.4\n",
            "Df Residuals:                      80   BIC:                                      816.5\n",
            "Df Model:                          20                                                  \n",
            "Covariance Type:            nonrobust                                                  \n",
            "==============================================================================\n",
            "                 coef    std err          t      P>|t|      [0.025      0.975]\n",
            "------------------------------------------------------------------------------\n",
            "x1            71.3360      0.961     74.200      0.000      69.423      73.249\n",
            "x2             0.2716      1.041      0.261      0.795      -1.800       2.343\n",
            "x3             0.0860      1.079      0.080      0.937      -2.062       2.234\n",
            "x4            45.2932      1.160     39.040      0.000      42.984      47.602\n",
            "x5            28.2157      1.086     25.980      0.000      26.054      30.377\n",
            "x6            -1.9462      1.133     -1.718      0.090      -4.200       0.308\n",
            "x7            -1.2109      1.143     -1.059      0.293      -3.486       1.064\n",
            "x8            -0.5254      1.188     -0.442      0.660      -2.890       1.839\n",
            "x9            77.0973      1.149     67.101      0.000      74.811      79.384\n",
            "x10            4.0669      1.086      3.743      0.000       1.905       6.229\n",
            "x11            0.4164      1.137      0.366      0.715      -1.847       2.679\n",
            "x12           72.5138      1.239     58.506      0.000      70.047      74.980\n",
            "x13           18.7120      1.256     14.900      0.000      16.213      21.211\n",
            "x14            0.0791      1.066      0.074      0.941      -2.043       2.201\n",
            "x15            0.6675      1.038      0.643      0.522      -1.397       2.732\n",
            "x16           62.4240      1.121     55.671      0.000      60.193      64.655\n",
            "x17            1.4288      1.096      1.304      0.196      -0.752       3.610\n",
            "x18           90.8181      1.143     79.448      0.000      88.543      93.093\n",
            "x19           31.0685      1.225     25.354      0.000      28.630      33.507\n",
            "x20           90.4150      1.206     74.970      0.000      88.015      92.815\n",
            "==============================================================================\n",
            "Omnibus:                        1.002   Durbin-Watson:                   1.722\n",
            "Prob(Omnibus):                  0.606   Jarque-Bera (JB):                1.105\n",
            "Skew:                           0.198   Prob(JB):                        0.576\n",
            "Kurtosis:                       2.670   Cond. No.                         2.38\n",
            "==============================================================================\n",
            "\n",
            "Notes:\n",
            "[1] R² is computed without centering (uncentered) since the model does not contain a constant.\n",
            "[2] Standard Errors assume that the covariance matrix of the errors is correctly specified.\n"
          ]
        },
        {
          "output_type": "execute_result",
          "data": {
            "text/plain": [
              "(None,\n",
              " array([[73.9104],\n",
              "        [ 0.    ],\n",
              "        [ 0.    ],\n",
              "        [46.4767],\n",
              "        [28.4239],\n",
              "        [ 0.    ],\n",
              "        [ 0.    ],\n",
              "        [ 0.    ],\n",
              "        [76.8691],\n",
              "        [ 0.    ],\n",
              "        [ 0.    ],\n",
              "        [71.9202],\n",
              "        [20.6836],\n",
              "        [ 0.    ],\n",
              "        [ 0.    ],\n",
              "        [63.1335],\n",
              "        [ 0.    ],\n",
              "        [90.1118],\n",
              "        [31.641 ],\n",
              "        [89.4811]]))"
            ]
          },
          "metadata": {},
          "execution_count": 9
        }
      ]
    },
    {
      "cell_type": "markdown",
      "source": [
        "4. У Ridge и Lasso коэффициенты всегда меньше, чем у LinearRegression"
      ],
      "metadata": {
        "id": "z3SCFuJUFert"
      }
    },
    {
      "cell_type": "code",
      "source": [
        "(fit_ridge.coef_ < fit_lr.coef_).all(), (fit_lasso.coef_ < fit_lr.coef_).all()"
      ],
      "metadata": {
        "colab": {
          "base_uri": "https://localhost:8080/"
        },
        "id": "Bhkjh7cEE7IK",
        "outputId": "80ad1c11-c2dd-4832-ab19-366369180f53"
      },
      "execution_count": null,
      "outputs": [
        {
          "output_type": "execute_result",
          "data": {
            "text/plain": [
              "(False, False)"
            ]
          },
          "metadata": {},
          "execution_count": 10
        }
      ]
    },
    {
      "cell_type": "markdown",
      "source": [
        "5. LinearRegression точнее всего определила коэффициенты, если посчитать сумму долей абсолютных отклонений от истинного значения"
      ],
      "metadata": {
        "id": "6uobJenOF92t"
      }
    },
    {
      "cell_type": "code",
      "source": [
        "sum = 0\n",
        "sum_ridge = 0\n",
        "sum_lasso = 0\n",
        "for i in range(len(coefs)):\n",
        "\n",
        "  if coefs[i] == 0:\n",
        "    sum+=1\n",
        "    sum_ridge+=1\n",
        "    sum_lasso+=1\n",
        "    continue\n",
        "\n",
        "  if fit_lr.coef_[i] != 0: sum += abs((fit_lr.coef_[i] - coefs[i])/coefs[i])\n",
        "  if fit_ridge.coef_[i] != 0: sum_ridge += abs((fit_ridge.coef_[i] - coefs[i])/coefs[i])\n",
        "  if fit_lasso.coef_[i] != 0: sum_lasso += abs((fit_lasso.coef_[i] - coefs[i])/coefs[i])\n",
        "\n",
        "sum, sum_ridge, sum_lasso"
      ],
      "metadata": {
        "colab": {
          "base_uri": "https://localhost:8080/"
        },
        "id": "GivdG5uAFpZ8",
        "outputId": "abd954b9-0421-40bd-d357-630c62c23f22"
      },
      "execution_count": null,
      "outputs": [
        {
          "output_type": "execute_result",
          "data": {
            "text/plain": [
              "(10.681956274276697, 10.742182245978485, 10.892414814801977)"
            ]
          },
          "metadata": {},
          "execution_count": 11
        }
      ]
    },
    {
      "cell_type": "markdown",
      "source": [
        "#Вопрос 4.\n",
        "Давайте теперь разберем, как правильно нормировать Х. Изменим немного данные:\n",
        "\n",
        "X['x5'] = X['x5'] + 5\n",
        "\n",
        "X['x10'] = X['x10'] + 10\n",
        "\n",
        "X['x15'] = X['x15'] + 15\n",
        "\n",
        "(Порядковый номер столбца Х с 0)\n",
        "\n",
        "Разобьем выборку на train - где мы будем обучать регрессию и test - где мы будем проверять качество регрессии:\n",
        "X_train, X_test, y_train, y_test = train_test_split(X, y, test_size=0.33, random_state=42)\n",
        "\n",
        "В качестве реализации регрессии возьмем Ridge(random_state=1). Метрика качества R2."
      ],
      "metadata": {
        "id": "8oz5HGfuDvDv"
      }
    },
    {
      "cell_type": "code",
      "source": [
        "from sklearn.linear_model import Ridge\n",
        "import numpy as np\n",
        "from sklearn.datasets import make_regression\n",
        "from sklearn.model_selection import train_test_split\n",
        "from sklearn.metrics import r2_score\n",
        "from sklearn.preprocessing import StandardScaler\n",
        "\n",
        "X, y, coefs =  make_regression(n_samples=100, n_features=20, noise=10, coef = True)\n",
        "\n",
        "X.T[5] += 5\n",
        "X.T[10] += 10\n",
        "X.T[15] += 15\n",
        "\n",
        "X_train, X_test, y_train, y_test = train_test_split(X, y, test_size=.33, random_state=42)\n",
        "\n",
        "scaler = StandardScaler()\n",
        "X_train_sc_train =  scaler.fit(X_train).transform(X_train)\n",
        "X_test_sc_train =   scaler.fit(X_train).transform(X_test)\n",
        "X_test_sc_test =    scaler.fit(X_test).transform(X_test)\n",
        "X_train_sc_X =      scaler.fit(X).transform(X_train)\n",
        "X_test_sc_X =       scaler.fit(X).transform(X_test)\n",
        "\n",
        "\n",
        "fit_ridge = Ridge(random_state=1).fit(X_train, y_train)\n",
        "fit_ridge_sc_train = Ridge(random_state=1).fit(X_train_sc_train, y_train)\n",
        "fit_ridge_sc_X = Ridge(random_state=1).fit(X_train_sc_X, y_train)\n",
        "\n",
        "round(r2_score(fit_ridge.predict(X_test), y_test),4),\\\n",
        "round(r2_score(fit_ridge_sc_train.predict(X_test_sc_train), y_test),4),\\\n",
        "round(r2_score(fit_ridge_sc_train.predict(X_test_sc_test), y_test),4),\\\n",
        "round(r2_score(fit_ridge_sc_X.predict(X_test_sc_X), y_test),4)"
      ],
      "metadata": {
        "colab": {
          "base_uri": "https://localhost:8080/"
        },
        "id": "y_vJGd4QDypf",
        "outputId": "eba698dc-71fd-4e96-f459-ea433e335457"
      },
      "execution_count": null,
      "outputs": [
        {
          "output_type": "execute_result",
          "data": {
            "text/plain": [
              "(0.9925, 0.9925, 0.8917, 0.9925)"
            ]
          },
          "metadata": {},
          "execution_count": 83
        }
      ]
    },
    {
      "cell_type": "markdown",
      "source": [
        "#Вопрос 5.\n",
        "Давайте теперь изменим только X_test (моделируя ситуацию, когда тестовые данные \"поплыли\"):\n",
        "\n",
        "X_test['x5'] = X_test['x5'] - 2\n",
        "\n",
        "X_test['x10'] = X_test['x10'] - 5\n",
        "\n",
        "X_test['x15'] = X_test['x15'] - 7\n",
        "\n",
        "В качестве реализации регрессии продолжаем с Ridge(random_state=1). Метрика качества R2."
      ],
      "metadata": {
        "id": "_jqhoJVjYOMS"
      }
    },
    {
      "cell_type": "code",
      "source": [
        "from sklearn.linear_model import Ridge\n",
        "import numpy as np\n",
        "from sklearn.datasets import make_regression\n",
        "from sklearn.model_selection import train_test_split\n",
        "from sklearn.metrics import r2_score\n",
        "from sklearn.preprocessing import StandardScaler\n",
        "\n",
        "X, y, coefs =  make_regression(n_samples=100, n_features=20, noise=10, random_state=42, coef = True)\n",
        "X_train, X_test, y_train, y_test = train_test_split(X, y, test_size=.33, random_state=42)\n",
        "\n",
        "X_test.T[5] -= 2\n",
        "X_test.T[10] -= 5\n",
        "X_test.T[15] -= 7\n",
        "\n",
        "scaler = StandardScaler()\n",
        "X_train_sc_train =  scaler.fit(X_train).transform(X_train)\n",
        "X_test_sc_train  =  scaler.fit(X_train).transform(X_test)\n",
        "X_test_sc_test   =  scaler.fit(X_test).transform(X_test)\n",
        "X_train_sc_X     =  scaler.fit(X).transform(X_train)\n",
        "X_test_sc_X      =  scaler.fit(X).transform(X_test)\n",
        "\n",
        "fit_ridge          =  Ridge(random_state=1).fit(X_train, y_train)\n",
        "fit_ridge_sc_train =  Ridge(random_state=1).fit(X_train_sc_train, y_train)\n",
        "fit_ridge_sc_X     =  Ridge(random_state=1).fit(X_train_sc_X, y_train)\n",
        "\n",
        "round(r2_score(fit_ridge.predict(X_test), y_test), 2),\\\n",
        "round(r2_score(fit_ridge_sc_train.predict(X_test_sc_train), y_test), 2),\\\n",
        "round(r2_score(fit_ridge_sc_train.predict(X_test_sc_test), y_test), 2),\\\n",
        "round(r2_score(fit_ridge_sc_X.predict(X_test_sc_X), y_test), 2)"
      ],
      "metadata": {
        "colab": {
          "base_uri": "https://localhost:8080/"
        },
        "id": "z9Nu6lcwYU5a",
        "outputId": "b9d6b249-d321-4232-e3cb-daceca4a609b"
      },
      "execution_count": null,
      "outputs": [
        {
          "output_type": "execute_result",
          "data": {
            "text/plain": [
              "(-0.75, -0.74, 0.94, -0.75)"
            ]
          },
          "metadata": {},
          "execution_count": 2
        }
      ]
    },
    {
      "cell_type": "markdown",
      "source": [
        "#Вопрос 6.\n",
        "Давайте теперь изменим X_test и X_train следующим образом:\n",
        "\n",
        "X_train['x5'] = X_train['x5'] * 2.5\n",
        "\n",
        "X_train['x10'] = X_train['x10'] * 5.5\n",
        "\n",
        "X_train['x15'] = X_train['x15'] * 7.7\n",
        "_____________________________________\n",
        "\n",
        "X_test['x5'] = X_test['x5'] * 2 + 0.5\n",
        "\n",
        "X_test['x10'] = X_test['x10'] * 5 + 1\n",
        "\n",
        "X_test['x15'] = X_test['x15'] * 7 + 1.5\n",
        "\n",
        "В качестве реализации регрессии продолжаем с Ridge(random_state=1). Метрика качества R2."
      ],
      "metadata": {
        "id": "N92b9lOBcy3_"
      }
    },
    {
      "cell_type": "code",
      "source": [
        "from sklearn.linear_model import Ridge\n",
        "import numpy as np\n",
        "from sklearn.datasets import make_regression\n",
        "from sklearn.model_selection import train_test_split\n",
        "from sklearn.metrics import r2_score\n",
        "from sklearn.preprocessing import StandardScaler\n",
        "\n",
        "X, y, coefs =  make_regression(n_samples=100, n_features=20, noise=10, random_state=42, coef = True)\n",
        "X_train, X_test, y_train, y_test = train_test_split(X, y, test_size=.33, random_state=42)\n",
        "\n",
        "X_train.T[5]  = X_train.T[5] * 2.5\n",
        "X_train.T[10] = X_train.T[10] * 5.5\n",
        "X_train.T[15] = X_train.T[15] * 7.7\n",
        "X_test.T[5]   = X_test.T[5] * 2 + 0.5\n",
        "X_test.T[10]  = X_test.T[10] * 5 + 1\n",
        "X_test.T[15]  = X_test.T[15] * 7 + 1.5\n",
        "\n",
        "scaler = StandardScaler()\n",
        "X_train_sc_train =  scaler.fit(X_train).transform(X_train)\n",
        "X_test_sc_train  =  scaler.fit(X_train).transform(X_test)\n",
        "X_test_sc_test   =  scaler.fit(X_test).transform(X_test)\n",
        "X_train_sc_X     =  scaler.fit(X).transform(X_train)\n",
        "X_test_sc_X      =  scaler.fit(X).transform(X_test)\n",
        "\n",
        "fit_ridge          =  Ridge(random_state=1).fit(X_train, y_train)\n",
        "fit_ridge_sc_train =  Ridge(random_state=1).fit(X_train_sc_train, y_train)\n",
        "fit_ridge_sc_X     =  Ridge(random_state=1).fit(X_train_sc_X, y_train)\n",
        "\n",
        "round(r2_score(fit_ridge.predict(X_test), y_test), 2),\\\n",
        "round(r2_score(fit_ridge_sc_train.predict(X_test_sc_train), y_test), 2),\\\n",
        "round(r2_score(fit_ridge_sc_train.predict(X_test_sc_test), y_test), 2),\\\n",
        "round(r2_score(fit_ridge_sc_X.predict(X_test_sc_X), y_test), 2)"
      ],
      "metadata": {
        "colab": {
          "base_uri": "https://localhost:8080/"
        },
        "id": "B8Cm8Nf6c6rq",
        "outputId": "f934b3db-5ccc-4b10-9319-f129261740bd"
      },
      "execution_count": null,
      "outputs": [
        {
          "output_type": "execute_result",
          "data": {
            "text/plain": [
              "(0.99, 0.99, 0.94, 0.98)"
            ]
          },
          "metadata": {},
          "execution_count": 8
        }
      ]
    },
    {
      "cell_type": "markdown",
      "source": [
        "#Вопрос 7.\n",
        "Работаем с датасетом, определенном в вопросе 4 (где 5й,10й,15й признаки увеличены). Разобьём на трейн и тест как в вопросе 4. Используем нормированные признаки и Ridge(random_state=1):\n",
        "\n",
        "Теперь давайте сделаем пропущенные значения для важного признака:\n",
        "\n",
        "X_train.loc[X_train['x1'].isin(X_train['x1'].sample(smpl, random_state=1+exp)), 'x1'] = np.nan,\n",
        "где попробуем 5 вариантов случайности exp = range(5). smpl - кол-во пропущенных значений.\n",
        "\n",
        "Ответьте на вопросы 1-2.\n",
        "\n",
        "Потом сделаем пропущенные значения только для неважного признака:\n",
        "X_train.loc[X_train['x10'].isin(X_train['x10'].sample(smpl, random_state=1+exp)), 'x10'] = np.nan,\n",
        "где попробуем 5 вариантов случайности exp = range(5).\n",
        "\n",
        "Ответьте на вопросы 3-4."
      ],
      "metadata": {
        "id": "j-09Vl6yeLgw"
      }
    },
    {
      "cell_type": "code",
      "source": [
        "'''ТЕСТИРОВАНИЕ ДЛЯ ВАЖНОГО ПРИЗНАКА'''\n",
        "\n",
        "from sklearn.linear_model import Ridge\n",
        "import numpy as np\n",
        "from sklearn.datasets import make_regression\n",
        "from sklearn.model_selection import train_test_split\n",
        "from sklearn.metrics import r2_score\n",
        "from sklearn.preprocessing import StandardScaler\n",
        "import pandas as pd\n",
        "\n",
        "X, y, coefs =  make_regression(n_samples=100, n_features=20, noise=10, coef = True)\n",
        "\n",
        "X.T[5] += 5\n",
        "X.T[10] += 10\n",
        "X.T[15] += 15\n",
        "\n",
        "X_train, X_test, y_train, y_test = train_test_split(X, y, test_size=.33, random_state=42)\n",
        "\n",
        "columns = [f'x{i}' for i in range(20)]\n",
        "X_train = pd.DataFrame(X_train, columns = columns)\n",
        "\n",
        "smpl = 60\n",
        "train = pd.concat([X_train,pd.DataFrame(y_train,columns=['y'])],axis=1)\n",
        "train.loc[train['x1'].isin(train['x1'].sample(smpl, random_state=2)), 'x1'] = np.nan\n",
        "# train.dropna(inplace=True)\n",
        "train.fillna(np.mean(train.drop('y',axis=1)),inplace=True)\n",
        "y_train = train['y']\n",
        "X_train = train.drop('y',axis=1)\n",
        "\n",
        "scaler = StandardScaler()\n",
        "X_train_sc_train =  scaler.fit(X_train).transform(X_train)\n",
        "X_test_sc_train =   scaler.fit(X_train).transform(X_test)\n",
        "X_test_sc_test =    scaler.fit(X_test).transform(X_test)\n",
        "X_train_sc_X =      scaler.fit(X).transform(X_train)\n",
        "X_test_sc_X =       scaler.fit(X).transform(X_test)\n",
        "\n",
        "\n",
        "fit_ridge = Ridge(random_state=1).fit(X_train, y_train)\n",
        "fit_ridge_sc_train = Ridge(random_state=1).fit(X_train_sc_train, y_train)\n",
        "fit_ridge_sc_X = Ridge(random_state=1).fit(X_train_sc_X, y_train)\n",
        "\n",
        "round(r2_score(fit_ridge.predict(X_test), y_test),4),\\\n",
        "round(r2_score(fit_ridge_sc_train.predict(X_test_sc_train), y_test),4),\\\n",
        "round(r2_score(fit_ridge_sc_train.predict(X_test_sc_test), y_test),4),\\\n",
        "round(r2_score(fit_ridge_sc_X.predict(X_test_sc_X), y_test),4)"
      ],
      "metadata": {
        "colab": {
          "base_uri": "https://localhost:8080/"
        },
        "id": "dAaL4SyjePnN",
        "outputId": "739bf458-cff4-4da8-b2f0-6f979bd9357e"
      },
      "execution_count": null,
      "outputs": [
        {
          "output_type": "stream",
          "name": "stderr",
          "text": [
            "/usr/local/lib/python3.10/dist-packages/numpy/core/fromnumeric.py:3430: FutureWarning: In a future version, DataFrame.mean(axis=None) will return a scalar mean over the entire DataFrame. To retain the old behavior, use 'frame.mean(axis=0)' or just 'frame.mean()'\n",
            "  return mean(axis=axis, dtype=dtype, out=out, **kwargs)\n",
            "/usr/local/lib/python3.10/dist-packages/sklearn/base.py:439: UserWarning: X does not have valid feature names, but StandardScaler was fitted with feature names\n",
            "  warnings.warn(\n",
            "/usr/local/lib/python3.10/dist-packages/sklearn/base.py:432: UserWarning: X has feature names, but StandardScaler was fitted without feature names\n",
            "  warnings.warn(\n",
            "/usr/local/lib/python3.10/dist-packages/sklearn/base.py:439: UserWarning: X does not have valid feature names, but Ridge was fitted with feature names\n",
            "  warnings.warn(\n"
          ]
        },
        {
          "output_type": "execute_result",
          "data": {
            "text/plain": [
              "(0.9966, 0.9967, 0.9451, 0.9966)"
            ]
          },
          "metadata": {},
          "execution_count": 57
        }
      ]
    },
    {
      "cell_type": "code",
      "source": [
        "'''ТЕСТИРОВАНИЕ ДЛЯ МЕНЕЕ ВАЖНОГО ПРИЗНАКА'''\n",
        "\n",
        "from sklearn.linear_model import Ridge\n",
        "import numpy as np\n",
        "from sklearn.datasets import make_regression\n",
        "from sklearn.model_selection import train_test_split\n",
        "from sklearn.metrics import r2_score\n",
        "from sklearn.preprocessing import StandardScaler\n",
        "import pandas as pd\n",
        "\n",
        "X, y, coefs =  make_regression(n_samples=100, n_features=20, noise=10, coef = True)\n",
        "\n",
        "X.T[5] += 5\n",
        "X.T[10] += 10\n",
        "X.T[15] += 15\n",
        "\n",
        "X_train, X_test, y_train, y_test = train_test_split(X, y, test_size=.33, random_state=42)\n",
        "\n",
        "columns = [f'x{i}' for i in range(20)]\n",
        "X_train = pd.DataFrame(X_train, columns = columns)\n",
        "\n",
        "smpl = 60\n",
        "train = pd.concat([X_train,pd.DataFrame(y_train,columns=['y'])],axis=1)\n",
        "train.loc[train['x10'].isin(train['x10'].sample(smpl, random_state=2)), 'x10'] = np.nan\n",
        "\n",
        "train.dropna(inplace=True)\n",
        "# train.fillna(np.mean(train.drop('y',axis=1)),inplace=True)\n",
        "\n",
        "y_train = train['y']\n",
        "X_train = train.drop('y',axis=1)\n",
        "\n",
        "scaler = StandardScaler()\n",
        "X_train_sc_train =  scaler.fit(X_train).transform(X_train)\n",
        "X_test_sc_train =   scaler.fit(X_train).transform(X_test)\n",
        "X_test_sc_test =    scaler.fit(X_test).transform(X_test)\n",
        "X_train_sc_X =      scaler.fit(X).transform(X_train)\n",
        "X_test_sc_X =       scaler.fit(X).transform(X_test)\n",
        "\n",
        "\n",
        "fit_ridge = Ridge(random_state=1).fit(X_train, y_train)\n",
        "fit_ridge_sc_train = Ridge(random_state=1).fit(X_train_sc_train, y_train)\n",
        "fit_ridge_sc_X = Ridge(random_state=1).fit(X_train_sc_X, y_train)\n",
        "\n",
        "round(r2_score(fit_ridge.predict(X_test), y_test),4),\\\n",
        "round(r2_score(fit_ridge_sc_train.predict(X_test_sc_train), y_test),4),\\\n",
        "round(r2_score(fit_ridge_sc_train.predict(X_test_sc_test), y_test),4),\\\n",
        "round(r2_score(fit_ridge_sc_X.predict(X_test_sc_X), y_test),4)"
      ],
      "metadata": {
        "colab": {
          "base_uri": "https://localhost:8080/"
        },
        "id": "21LJh8MSjgLt",
        "outputId": "bb8a97d5-c0d4-489d-e4a0-5bf85bc00c50"
      },
      "execution_count": null,
      "outputs": [
        {
          "output_type": "stream",
          "name": "stderr",
          "text": [
            "/usr/local/lib/python3.10/dist-packages/sklearn/base.py:439: UserWarning: X does not have valid feature names, but StandardScaler was fitted with feature names\n",
            "  warnings.warn(\n",
            "/usr/local/lib/python3.10/dist-packages/sklearn/base.py:432: UserWarning: X has feature names, but StandardScaler was fitted without feature names\n",
            "  warnings.warn(\n",
            "/usr/local/lib/python3.10/dist-packages/sklearn/base.py:439: UserWarning: X does not have valid feature names, but Ridge was fitted with feature names\n",
            "  warnings.warn(\n"
          ]
        },
        {
          "output_type": "execute_result",
          "data": {
            "text/plain": [
              "(-1.3594, -1.3006, -0.9206, -1.4797)"
            ]
          },
          "metadata": {},
          "execution_count": 65
        }
      ]
    },
    {
      "cell_type": "markdown",
      "source": [
        "#Вопрос 9.\n",
        "Создадим данные, используя\n",
        "X, y, coefs = make_regression(n_samples=1000, n_features=200, noise=10, random_state=42, coef=True)\n",
        "\n",
        "Давайте построим Ridge(random_state=1), Lasso, LinearRegression на ненормированных данных (т.к. сырые данные близки к нормированным) и на 100 случайно выбранных наблюдениях. Качество оценим по mean_squared_error от истинных значений и предсказаний на наблюдениях, которые не участвовали в обучении (900)."
      ],
      "metadata": {
        "id": "JLMf2kNd0DC8"
      }
    },
    {
      "cell_type": "code",
      "source": [
        "from sklearn.linear_model import Ridge\n",
        "from sklearn.linear_model import Lasso\n",
        "from sklearn.linear_model import LinearRegression\n",
        "from sklearn.datasets import make_regression\n",
        "from sklearn.model_selection import train_test_split\n",
        "from sklearn.metrics import mean_squared_error\n",
        "from sklearn.metrics import mean_absolute_error\n",
        "\n",
        "\n",
        "X, y, coefs = make_regression(n_samples=1000, n_features=200, noise=10, random_state=42, coef=True)\n",
        "\n",
        "X_train, X_test, y_train, y_test = train_test_split(X, y, test_size=.9, random_state=42)\n",
        "\n",
        "r_fit = Ridge(random_state=1).fit(X_train,y_train)\n",
        "l_fit = Lasso().fit(X_train,y_train)\n",
        "lr_fit = LinearRegression().fit(X_train,y_train)\n",
        "\n",
        "print(\n",
        "      mean_squared_error(r_fit.predict(X_test),y_test),\\\n",
        "      mean_squared_error(l_fit.predict(X_test),y_test),\\\n",
        "      mean_squared_error(lr_fit.predict(X_test),y_test))\n",
        "\n",
        "print(\n",
        "      mean_absolute_error(coefs,r_fit.coef_),\n",
        "      mean_absolute_error(coefs,l_fit.coef_),\n",
        "      mean_absolute_error(coefs,lr_fit.coef_))\n"
      ],
      "metadata": {
        "colab": {
          "base_uri": "https://localhost:8080/"
        },
        "id": "U3Io0SJf5TSk",
        "outputId": "343ca991-dc93-4fa8-fde2-93e1a3b1a42f"
      },
      "execution_count": 4,
      "outputs": [
        {
          "output_type": "stream",
          "name": "stdout",
          "text": [
            "20990.913124897692 140.09059281921682 21049.257544778877\n",
            "6.649737949291521 0.17095310276609033 6.692372273451126\n"
          ]
        }
      ]
    },
    {
      "cell_type": "markdown",
      "source": [
        "#Вопрос 10.\n",
        "Мультиколлинеарность. Вернемся к первоначальным данным:\n",
        "X, y, coefs = make_regression(n_samples=100, n_features=20, noise=10, random_state=42, coef=True)\n",
        "\n",
        "Добавим к X столбец x['x20'] = x['x1'] (столбец, равный первому признаку, если нумерация столбцов с 0).\n",
        "Давайте построим Ridge(random_state=1), Lasso, LinearRegression на нормированных данных.\n",
        "\n",
        "Ответьте на вопросы 1-3.\n",
        "\n",
        "Пропуск важной переменной. Вернемся к первоначальным данным:\n",
        "X, y, coefs = make_regression(n_samples=100, n_features=20, noise=10, random_state=42, coef=True)\n",
        "Уберем из X важный x['x1'] (столбец, равный первому признаку, если нумерация признаков с 0).\n",
        "Давайте построим Ridge(random_state=1), Lasso, LinearRegression на нормированных данных.\n",
        "\n",
        "Ответьте на вопросы 4-6."
      ],
      "metadata": {
        "id": "FDn50dR2A8Es"
      }
    },
    {
      "cell_type": "code",
      "source": [
        "import numpy as np\n",
        "import pandas as pd\n",
        "from sklearn.linear_model import Ridge\n",
        "from sklearn.linear_model import Lasso\n",
        "from sklearn.linear_model import LinearRegression\n",
        "from sklearn.datasets import make_regression\n",
        "from sklearn.model_selection import train_test_split\n",
        "from sklearn.preprocessing import StandardScaler\n",
        "\n",
        "\n",
        "X, y, coefs = make_regression(n_samples=100, n_features=20, noise=10, random_state=42, coef=True)\n",
        "\n",
        "columns = [f'x{i}' for i in range(20)]\n",
        "X_mult = pd.DataFrame(X.copy(), columns = columns)\n",
        "X_mult['x20'] = X_mult['x1']\n",
        "\n",
        "X_train, X_test, y_train, y_test = train_test_split(X, y, test_size=.9, random_state=42)\n",
        "X_mult_train, X_mult_test, _, _ = train_test_split(X_mult, y, test_size=.9, random_state=42)\n",
        "\n",
        "scaler = StandardScaler()\n",
        "X_train_sc =  scaler.fit(X_train).transform(X_train)\n",
        "X_test_sc =   scaler.fit(X_train).transform(X_test)\n",
        "X_mult_train_sc =  scaler.fit(X_mult_train).transform(X_mult_train)\n",
        "X_mult_test_sc =   scaler.fit(X_mult_train).transform(X_mult_test)\n",
        "\n",
        "r_fit = Ridge(random_state=1).fit(X_train_sc,y_train)\n",
        "l_fit = Lasso().fit(X_train_sc,y_train)\n",
        "lr_fit = LinearRegression().fit(X_train_sc,y_train)\n",
        "r_mult_fit = Ridge(random_state=1).fit(X_mult_train_sc,y_train)\n",
        "l_mult_fit = Lasso().fit(X_mult_train_sc,y_train)\n",
        "lr_mult_fit = LinearRegression().fit(X_mult_train_sc,y_train)\n",
        "\n",
        "print(\n",
        "      coefs.round(2).reshape(-1,5),'\\nridge\\n',\\\n",
        "      r_fit.coef_.round(2).reshape(-1,5), '\\n',r_mult_fit.coef_.round(2).reshape(-1,7),'\\nlasso\\n',\\\n",
        "      l_fit.coef_.round(2).reshape(-1,5), '\\n',l_mult_fit.coef_.round(2).reshape(-1,7),'\\nlinear\\n',\\\n",
        "      lr_fit.coef_.round(2).reshape(-1,5), '\\n',lr_mult_fit.coef_.round(2).reshape(-1,7)\n",
        "      )\n"
      ],
      "metadata": {
        "colab": {
          "base_uri": "https://localhost:8080/"
        },
        "id": "i9pjDSM-BBTf",
        "outputId": "4b936c0e-bc82-47c4-85c4-d169a8b7b6ee"
      },
      "execution_count": 38,
      "outputs": [
        {
          "output_type": "stream",
          "name": "stdout",
          "text": [
            "[[ 6.6  94.77 40.71  0.    0.  ]\n",
            " [ 0.   11.1  95.51 80.82 34.88]\n",
            " [ 0.    0.    0.    0.    0.  ]\n",
            " [29.96  7.23  0.    0.   52.26]] \n",
            "ridge\n",
            " [[ 20.4   21.17  -2.09 -10.66  12.42]\n",
            " [  1.79   0.65  13.03   4.91   5.41]\n",
            " [  2.4    7.58   3.9    5.63  12.19]\n",
            " [ 22.13 -24.5    5.7    1.26   2.21]] \n",
            " [[ 21.65  14.01  -2.61  -9.61   9.85   1.73   1.65]\n",
            " [ 14.35   5.48   4.11   1.7    7.88   3.29   2.81]\n",
            " [ 12.19  21.58 -21.26   3.72   2.04   4.25  14.01]] \n",
            "lasso\n",
            " [[  1.72  23.13   0.    -4.53   0.  ]\n",
            " [  0.    -0.    24.89   3.31  -0.  ]\n",
            " [  0.     4.52  -0.     0.    17.37]\n",
            " [ 30.63 -41.09  -0.     0.    -0.  ]] \n",
            " [[  1.72  23.13   0.    -4.53   0.     0.    -0.  ]\n",
            " [ 24.89   3.31  -0.     0.     4.52  -0.     0.  ]\n",
            " [ 17.37  30.63 -41.09  -0.     0.    -0.     0.  ]] \n",
            "linear\n",
            " [[ 22.17  23.36  -2.08 -11.53  14.14]\n",
            " [  1.45   1.    14.61   7.4    3.65]\n",
            " [  1.67   8.41   4.03   6.17  12.74]\n",
            " [ 23.46 -26.74   7.04   0.3    1.23]] \n",
            " [[ 23.5   15.1   -2.71 -10.32  11.05   1.42   2.04]\n",
            " [ 16.02   7.84   2.37   0.97   8.7    3.28   2.97]\n",
            " [ 12.69  22.79 -22.92   4.71   1.28   3.61  15.1 ]]\n"
          ]
        }
      ]
    },
    {
      "cell_type": "markdown",
      "source": [
        "Пропуск важной переменной. Вернемся к первоначальным данным:\n",
        "X, y, coefs = make_regression(n_samples=100, n_features=20, noise=10, random_state=42, coef=True)\n",
        "Уберем из X важный x['x1'] (столбец, равный первому признаку, если нумерация признаков с 0).\n",
        "Давайте построим Ridge(random_state=1), Lasso, LinearRegression на нормированных данных."
      ],
      "metadata": {
        "id": "PilIUdpEErKz"
      }
    },
    {
      "cell_type": "code",
      "source": [
        "import numpy as np\n",
        "import pandas as pd\n",
        "from sklearn.linear_model import Ridge\n",
        "from sklearn.linear_model import Lasso\n",
        "from sklearn.linear_model import LinearRegression\n",
        "from sklearn.datasets import make_regression\n",
        "from sklearn.model_selection import train_test_split\n",
        "from sklearn.preprocessing import StandardScaler\n",
        "from sklearn.metrics import r2_score\n",
        "\n",
        "\n",
        "X, y, coefs = make_regression(n_samples=100, n_features=20, noise=10, random_state=42, coef=True)\n",
        "X_del = np.delete(X,1,axis=1)\n",
        "\n",
        "X_train, X_test, y_train, y_test = train_test_split(X, y, test_size=.9, random_state=42)\n",
        "X_del_train, X_del_test, _, _ = train_test_split(X_del, y, test_size=.9, random_state=42)\n",
        "\n",
        "scaler = StandardScaler()\n",
        "X_train_sc =  scaler.fit(X_train).transform(X_train)\n",
        "X_test_sc =   scaler.fit(X_train).transform(X_test)\n",
        "X_del_train_sc =  scaler.fit(X_del_train).transform(X_del_train)\n",
        "X_del_test_sc =   scaler.fit(X_del_train).transform(X_del_test)\n",
        "\n",
        "r_fit = Ridge(random_state=1).fit(X_train_sc,y_train)\n",
        "l_fit = Lasso().fit(X_train_sc,y_train)\n",
        "lr_fit = LinearRegression().fit(X_train_sc,y_train)\n",
        "r_del_fit = Ridge(random_state=1).fit(X_del_train_sc,y_train)\n",
        "l_del_fit = Lasso().fit(X_del_train_sc,y_train)\n",
        "lr_del_fit = LinearRegression().fit(X_del_train_sc,y_train)\n",
        "\n",
        "print(\n",
        "      coefs.round(2).reshape(-1,5),'\\nridge\\n',\\\n",
        "      r_fit.coef_.round(2).reshape(-1,5), '\\n',r_del_fit.coef_.round(2),'\\nlasso\\n',\\\n",
        "      l_fit.coef_.round(2).reshape(-1,5), '\\n',l_del_fit.coef_.round(2),'\\nlinear\\n',\\\n",
        "      lr_fit.coef_.round(2).reshape(-1,5), '\\n',lr_del_fit.coef_.round(2)\n",
        "      )\n",
        "print(\n",
        "      r2_score(r_fit.predict(X_test_sc),y_test)/          \\\n",
        "      r2_score(r_del_fit.predict(X_del_test_sc),y_test),  \\\n",
        "      r2_score(l_fit.predict(X_test_sc),y_test)/          \\\n",
        "      r2_score(l_del_fit.predict(X_del_test_sc),y_test),  \\\n",
        "      r2_score(lr_fit.predict(X_test_sc),y_test)/         \\\n",
        "      r2_score(lr_del_fit.predict(X_del_test_sc),y_test))\n"
      ],
      "metadata": {
        "colab": {
          "base_uri": "https://localhost:8080/"
        },
        "id": "Uu0RZz4_EsCB",
        "outputId": "cda9bdf4-f79f-4daf-a651-8c8cf262b81c"
      },
      "execution_count": 44,
      "outputs": [
        {
          "output_type": "stream",
          "name": "stdout",
          "text": [
            "[[ 6.6  94.77 40.71  0.    0.  ]\n",
            " [ 0.   11.1  95.51 80.82 34.88]\n",
            " [ 0.    0.    0.    0.    0.  ]\n",
            " [29.96  7.23  0.    0.   52.26]] \n",
            "ridge\n",
            " [[ 20.4   21.17  -2.09 -10.66  12.42]\n",
            " [  1.79   0.65  13.03   4.91   5.41]\n",
            " [  2.4    7.58   3.9    5.63  12.19]\n",
            " [ 22.13 -24.5    5.7    1.26   2.21]] \n",
            " [[ 16.51  -0.45 -13.92  20.39   1.99  -2.44   8.93   3.14   9.44   4.57\n",
            "    6.65   5.81  14.37  12.22  23.83 -34.52  11.83  -1.16  -4.08]] \n",
            "lasso\n",
            " [[  1.72  23.13   0.    -4.53   0.  ]\n",
            " [  0.    -0.    24.89   3.31  -0.  ]\n",
            " [  0.     4.52  -0.     0.    17.37]\n",
            " [ 30.63 -41.09  -0.     0.    -0.  ]] \n",
            " [[  0.     0.   -29.77  22.91   0.    -3.63   7.38  -0.     0.     0.\n",
            "    7.67   0.     0.     0.    38.49 -48.43   7.88  -0.    -0.  ]] \n",
            "linear\n",
            " [[ 22.17  23.36  -2.08 -11.53  14.14]\n",
            " [  1.45   1.    14.61   7.4    3.65]\n",
            " [  1.67   8.41   4.03   6.17  12.74]\n",
            " [ 23.46 -26.74   7.04   0.3    1.23]] \n",
            " [[ 17.64   0.07 -15.65  24.67   1.55  -2.55   9.8    5.88   8.02   4.04\n",
            "    7.42   6.6   17.06  12.93  25.76 -39.77  14.98  -3.04  -6.86]]\n",
            "0.8935090501445206 0.5957372840809729 0.8964343313463514\n"
          ]
        }
      ]
    }
  ]
}