{
  "nbformat": 4,
  "nbformat_minor": 0,
  "metadata": {
    "colab": {
      "provenance": [],
      "authorship_tag": "ABX9TyMdsdkQl78XWJhG+YCKCFPG",
      "include_colab_link": true
    },
    "kernelspec": {
      "name": "python3",
      "display_name": "Python 3"
    },
    "language_info": {
      "name": "python"
    }
  },
  "cells": [
    {
      "cell_type": "markdown",
      "metadata": {
        "id": "view-in-github",
        "colab_type": "text"
      },
      "source": [
        "<a href=\"https://colab.research.google.com/github/mirovoy465/colab/blob/main/ods.ai%20linear%20course%20homework.ipynb\" target=\"_parent\"><img src=\"https://colab.research.google.com/assets/colab-badge.svg\" alt=\"Open In Colab\"/></a>"
      ]
    },
    {
      "cell_type": "markdown",
      "source": [
        "# **Open ML Course: Линейные модели 2023**\n",
        "\n",
        "# Домашнее задание 1"
      ],
      "metadata": {
        "id": "FTcRKTxP1yCF"
      }
    },
    {
      "cell_type": "markdown",
      "source": [
        "# Вопрос 1.\n",
        "Создайте данные используя make_regression(n_samples=100, n_features=20, noise=10, random_state=42)\n",
        "Что можно сказать о полученных данных?"
      ],
      "metadata": {
        "id": "MhsyObrB2MGF"
      }
    },
    {
      "cell_type": "code",
      "source": [
        "from sklearn.datasets import make_regression\n",
        "\n",
        "X, y =  make_regression(n_samples=100, n_features=20, noise=10)"
      ],
      "metadata": {
        "id": "LGPynM_c2Ld9"
      },
      "execution_count": 55,
      "outputs": []
    },
    {
      "cell_type": "markdown",
      "source": [
        "Среднее признаков по модулю меньше единицы и стандартное отклонение около единицы (отличается не более, чем на 20%)"
      ],
      "metadata": {
        "id": "pcHmwdD526QB"
      }
    },
    {
      "cell_type": "code",
      "source": [
        "X.mean(), X.std()"
      ],
      "metadata": {
        "colab": {
          "base_uri": "https://localhost:8080/"
        },
        "id": "VrhsSVUF2fDP",
        "outputId": "43f79ae0-4ffa-4b8c-c9ef-ebc5cbb8b5fd"
      },
      "execution_count": 56,
      "outputs": [
        {
          "output_type": "execute_result",
          "data": {
            "text/plain": [
              "(-0.013327060196174174, 0.9920227509371835)"
            ]
          },
          "metadata": {},
          "execution_count": 56
        }
      ]
    },
    {
      "cell_type": "markdown",
      "source": [
        "Есть корреляции больше .5 между разными признаками"
      ],
      "metadata": {
        "id": "7LpFXVV329MX"
      }
    },
    {
      "cell_type": "code",
      "source": [
        "import numpy as np\n",
        "\n",
        "correlation_matrix = np.corrcoef(X, rowvar=False)\n",
        "(correlation_matrix > .5).any()"
      ],
      "metadata": {
        "colab": {
          "base_uri": "https://localhost:8080/"
        },
        "id": "7f20aRhj2otF",
        "outputId": "b6002101-8783-4ca1-bfa6-ad7bf5d6d794"
      },
      "execution_count": 57,
      "outputs": [
        {
          "output_type": "execute_result",
          "data": {
            "text/plain": [
              "True"
            ]
          },
          "metadata": {},
          "execution_count": 57
        }
      ]
    },
    {
      "cell_type": "markdown",
      "source": [
        "Для вычисления значений признаков требуется регуляризованная регрессия"
      ],
      "metadata": {
        "id": "0nWeAHvr4GxB"
      }
    },
    {
      "cell_type": "code",
      "source": [
        "# ?????? зачем вычислять признаки"
      ],
      "metadata": {
        "id": "gF_PzXRY3j9g"
      },
      "execution_count": 58,
      "outputs": []
    },
    {
      "cell_type": "markdown",
      "source": [
        "Для лучшего предсказания признаки нужно отнормировать\n"
      ],
      "metadata": {
        "id": "ousWbafE4UsF"
      }
    },
    {
      "cell_type": "code",
      "source": [
        "from sklearn.preprocessing import StandardScaler\n",
        "\n",
        "X_sc = StandardScaler().fit_transform(X)\n",
        "\n",
        "X_sc.mean(), X_sc.std()"
      ],
      "metadata": {
        "colab": {
          "base_uri": "https://localhost:8080/"
        },
        "id": "ujttnUfe5QSJ",
        "outputId": "3db19ade-aeb0-4d4d-b444-bc53b3e80087"
      },
      "execution_count": 59,
      "outputs": [
        {
          "output_type": "execute_result",
          "data": {
            "text/plain": [
              "(0.0, 0.9999999999999999)"
            ]
          },
          "metadata": {},
          "execution_count": 59
        }
      ]
    },
    {
      "cell_type": "code",
      "source": [
        "from sklearn.linear_model import LinearRegression\n",
        "from sklearn.model_selection import train_test_split\n",
        "from sklearn.metrics import r2_score\n",
        "\n",
        "scores = np.array([])\n",
        "for iter in range(1000):\n",
        "  X_train, X_test, y_train, y_test = train_test_split(X, y, test_size = .3)\n",
        "\n",
        "  X_train_sc, X_test_sc, y_train_sc, y_test_sc = train_test_split(X_sc, y, test_size = .3)\n",
        "\n",
        "  linreg = LinearRegression()\n",
        "  fit = linreg.fit(X_train, y_train)\n",
        "  fit_sc = linreg.fit(X_train_sc, y_train_sc)\n",
        "\n",
        "  iter_scores = r2_score(fit.predict(X_test), y_test),\\\n",
        "                r2_score(fit.predict(X_test_sc), y_test_sc)\n",
        "\n",
        "  scores = np.append(scores, iter_scores, axis = 0)\n",
        "\n",
        "scores.reshape(-1, 2).mean(axis=0)"
      ],
      "metadata": {
        "colab": {
          "base_uri": "https://localhost:8080/"
        },
        "id": "6VqH2vuE6ESr",
        "outputId": "5796cd8f-cd05-46c2-fcb6-e36209832c1e"
      },
      "execution_count": 84,
      "outputs": [
        {
          "output_type": "execute_result",
          "data": {
            "text/plain": [
              "array([0.98758397, 0.99515433])"
            ]
          },
          "metadata": {},
          "execution_count": 84
        }
      ]
    },
    {
      "cell_type": "markdown",
      "source": [
        "да"
      ],
      "metadata": {
        "id": "DAmBsas67xM6"
      }
    },
    {
      "cell_type": "markdown",
      "source": [
        "# Вопрос 2.\n",
        "\n",
        "Используя sklearn.linear_model постройте LinearRegression, Ridge(random_state=1), Lasso на дефолтных параметрах и ненормированных признаках. Для оценки регрессии используем R2 из функции score модели."
      ],
      "metadata": {
        "id": "388AjwMD70bm"
      }
    }
  ]
}