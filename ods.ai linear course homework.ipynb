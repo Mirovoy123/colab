{
  "nbformat": 4,
  "nbformat_minor": 0,
  "metadata": {
    "colab": {
      "provenance": [],
      "authorship_tag": "ABX9TyPlWwZTn76QJX/RnwuimgDe",
      "include_colab_link": true
    },
    "kernelspec": {
      "name": "python3",
      "display_name": "Python 3"
    },
    "language_info": {
      "name": "python"
    }
  },
  "cells": [
    {
      "cell_type": "markdown",
      "metadata": {
        "id": "view-in-github",
        "colab_type": "text"
      },
      "source": [
        "<a href=\"https://colab.research.google.com/github/mirovoy465/colab/blob/main/ods.ai%20linear%20course%20homework.ipynb\" target=\"_parent\"><img src=\"https://colab.research.google.com/assets/colab-badge.svg\" alt=\"Open In Colab\"/></a>"
      ]
    },
    {
      "cell_type": "markdown",
      "source": [
        "# **Open ML Course: Линейные модели 2023**\n",
        "\n",
        "# Домашнее задание 1"
      ],
      "metadata": {
        "id": "FTcRKTxP1yCF"
      }
    },
    {
      "cell_type": "markdown",
      "source": [
        "# Вопрос 1.\n",
        "Создайте данные используя make_regression(n_samples=100, n_features=20, noise=10, random_state=42)\n",
        "Что можно сказать о полученных данных?"
      ],
      "metadata": {
        "id": "MhsyObrB2MGF"
      }
    },
    {
      "cell_type": "code",
      "source": [
        "from sklearn.datasets import make_regression\n",
        "\n",
        "X, y =  make_regression(n_samples=100, n_features=20, noise=10)"
      ],
      "metadata": {
        "id": "LGPynM_c2Ld9"
      },
      "execution_count": 22,
      "outputs": []
    },
    {
      "cell_type": "markdown",
      "source": [
        "Среднее признаков по модулю меньше единицы и стандартное отклонение около единицы (отличается не более, чем на 20%)"
      ],
      "metadata": {
        "id": "pcHmwdD526QB"
      }
    },
    {
      "cell_type": "code",
      "source": [
        "X.mean(), X.std()"
      ],
      "metadata": {
        "colab": {
          "base_uri": "https://localhost:8080/"
        },
        "id": "VrhsSVUF2fDP",
        "outputId": "6a00d1f0-b31a-4dc3-e23a-dc2ad7dac24c"
      },
      "execution_count": 23,
      "outputs": [
        {
          "output_type": "execute_result",
          "data": {
            "text/plain": [
              "(-0.0058133918653301255, 0.965571259146347)"
            ]
          },
          "metadata": {},
          "execution_count": 23
        }
      ]
    },
    {
      "cell_type": "markdown",
      "source": [
        "Есть корреляции больше .5 между разными признаками"
      ],
      "metadata": {
        "id": "7LpFXVV329MX"
      }
    },
    {
      "cell_type": "code",
      "source": [
        "import numpy as np\n",
        "\n",
        "correlation_matrix = np.corrcoef(X, rowvar=False)\n",
        "correlation_matrix -= (np.isclose(correlation_matrix, 1)).astype(int)\n",
        "(correlation_matrix > .5).any()"
      ],
      "metadata": {
        "colab": {
          "base_uri": "https://localhost:8080/"
        },
        "id": "7f20aRhj2otF",
        "outputId": "84f7b27b-67ea-4895-e000-018a755809a0"
      },
      "execution_count": 30,
      "outputs": [
        {
          "output_type": "execute_result",
          "data": {
            "text/plain": [
              "False"
            ]
          },
          "metadata": {},
          "execution_count": 30
        }
      ]
    },
    {
      "cell_type": "markdown",
      "source": [
        "Для вычисления значений признаков требуется регуляризованная регрессия"
      ],
      "metadata": {
        "id": "0nWeAHvr4GxB"
      }
    },
    {
      "cell_type": "code",
      "source": [
        "# ?????? зачем вычислять признаки"
      ],
      "metadata": {
        "id": "gF_PzXRY3j9g"
      },
      "execution_count": 58,
      "outputs": []
    },
    {
      "cell_type": "markdown",
      "source": [
        "Для лучшего предсказания признаки нужно отнормировать\n"
      ],
      "metadata": {
        "id": "ousWbafE4UsF"
      }
    },
    {
      "cell_type": "code",
      "source": [
        "from sklearn.linear_model import LinearRegression\n",
        "from sklearn.model_selection import train_test_split\n",
        "from sklearn.metrics import r2_score\n",
        "from sklearn.preprocessing import StandardScaler\n",
        "scores = np.array([])\n",
        "\n",
        "for iter in range(1000):\n",
        "  X_train, X_test, y_train, y_test = train_test_split(X, y, test_size = .3)\n",
        "\n",
        "  scaler = StandardScaler()\n",
        "  X_train_sc = scaler.fit_transform(X_train)\n",
        "  X_test_sc = scaler.fit_transform(X_test)\n",
        "\n",
        "  linreg = LinearRegression()\n",
        "  fit = linreg.fit(X_train, y_train)\n",
        "  fit_sc = linreg.fit(X_train_sc, y_train)\n",
        "\n",
        "  iter_scores = r2_score(fit.predict(X_test), y_test),\\\n",
        "                r2_score(fit.predict(X_test_sc), y_test)\n",
        "\n",
        "  scores = np.append(scores, iter_scores, axis = 0)\n",
        "\n",
        "scores.reshape(-1, 2).mean(axis=0)"
      ],
      "metadata": {
        "colab": {
          "base_uri": "https://localhost:8080/"
        },
        "id": "6VqH2vuE6ESr",
        "outputId": "c9e8ae92-509b-47ca-dcdd-50ed07138f28"
      },
      "execution_count": 21,
      "outputs": [
        {
          "output_type": "execute_result",
          "data": {
            "text/plain": [
              "array([0.98239305, 0.91953286])"
            ]
          },
          "metadata": {},
          "execution_count": 21
        }
      ]
    },
    {
      "cell_type": "markdown",
      "source": [
        "без нормализации действительно получается лучше"
      ],
      "metadata": {
        "id": "DAmBsas67xM6"
      }
    },
    {
      "cell_type": "markdown",
      "source": [
        "# Вопрос 2.\n",
        "\n",
        "Используя sklearn.linear_model постройте LinearRegression, Ridge(random_state=1), Lasso на дефолтных параметрах и ненормированных признаках. Для оценки регрессии используем R2 из функции score модели."
      ],
      "metadata": {
        "id": "388AjwMD70bm"
      }
    }
  ]
}